{
 "cells": [
  {
   "cell_type": "code",
   "execution_count": 59,
   "metadata": {},
   "outputs": [
    {
     "name": "stdout",
     "output_type": "stream",
     "text": [
      "The autoreload extension is already loaded. To reload it, use:\n",
      "  %reload_ext autoreload\n"
     ]
    }
   ],
   "source": [
    "# Useful starting lines\n",
    "%matplotlib inline\n",
    "import numpy as np\n",
    "import matplotlib.pyplot as plt\n",
    "%load_ext autoreload\n",
    "%autoreload 2"
   ]
  },
  {
   "cell_type": "markdown",
   "metadata": {},
   "source": [
    "# Cross-Validation and Bias-Variance decomposition\n",
    "## Cross-Validation\n",
    "Implementing 4-fold cross-validation below:"
   ]
  },
  {
   "cell_type": "code",
   "execution_count": 60,
   "metadata": {},
   "outputs": [],
   "source": [
    "from helpers import load_data\n",
    "\n",
    "# load dataset\n",
    "x, y = load_data()"
   ]
  },
  {
   "cell_type": "code",
   "execution_count": 61,
   "metadata": {},
   "outputs": [
    {
     "name": "stdout",
     "output_type": "stream",
     "text": [
      "(50,)\n",
      "12\n"
     ]
    }
   ],
   "source": [
    "print(np.shape(y))\n",
    "print(int(y.shape[0]/4))"
   ]
  },
  {
   "cell_type": "code",
   "execution_count": 62,
   "metadata": {},
   "outputs": [],
   "source": [
    "def build_k_indices(y, k_fold, seed):\n",
    "    \"\"\"build k indices for k-fold.\"\"\"\n",
    "    # perform 4-fold cross- validation for polynomial degree 7\n",
    "    num_row = y.shape[0] # 50\n",
    "    interval = int(num_row / k_fold) # 12\n",
    "    np.random.seed(seed)\n",
    "    indices = np.random.permutation(num_row)\n",
    "    k_indices = [indices[k * interval: (k + 1) * interval]\n",
    "                 for k in range(k_fold)]\n",
    "    # 0-12, 12-24, 24-36, 36-48\n",
    "    return np.array(k_indices)\n",
    "    # Will two values be wasted here?"
   ]
  },
  {
   "cell_type": "code",
   "execution_count": 64,
   "metadata": {},
   "outputs": [
    {
     "name": "stdout",
     "output_type": "stream",
     "text": [
      "train set is:  [27, 35, 40, 38, 2, 3, 48, 29, 46, 31, 32, 39, 23, 4, 33, 14, 30, 10, 28, 44, 34, 18, 20, 25, 6, 7, 47, 1, 16, 0, 15, 5, 11, 9, 8, 12]\n",
      "the shape for the trian set is:  (36,)\n",
      "train_idx_reference is  [27 35 40 38  2  3 48 29 46 31 32 39 23  4 33 14 30 10 28 44 34 18 20 25\n",
      "  6  7 47  1 16  0 15  5 11  9  8 12]\n",
      "the shape for the train_idx_reference is (36,)\n"
     ]
    },
    {
     "data": {
      "text/plain": [
       "'\\nx_train = []\\nfor i in range(len(train_idx)):\\n    x_train.append(x[train_idx[i]])\\n\\nprint(\"x_train is \", x_train)\\nprint(\"x_train\\'s shape is \", np.shape(x_train))\\n'"
      ]
     },
     "execution_count": 64,
     "metadata": {},
     "output_type": "execute_result"
    }
   ],
   "source": [
    "\"\"\"\n",
    "test use\n",
    "\"\"\"\n",
    "\n",
    "k_indices = build_k_indices(y, 4, 1)\n",
    "#print(\"k_indices is: \", k_indices)\n",
    "#print(\"the shape of k_indices is: \", np.shape(k_indices))\n",
    "test_idx = k_indices[1]\n",
    "#print(\"test set is \", test_idx)\n",
    "train_idx = []\n",
    "for i in range(np.shape(k_indices)[0]):\n",
    "    if i != 1:\n",
    "        for j in range(np.shape(k_indices)[1]):\n",
    "            train_idx.append(k_indices[i][j])\n",
    "# train_idx.flatten()\n",
    "print(\"train set is: \", train_idx)\n",
    "print(\"the shape for the trian set is: \", np.shape(train_idx))\n",
    "\n",
    "# x_test = x[test_idx]\n",
    "# print(\"x_test is \", x_test)\n",
    "\n",
    "train_idx_reference = k_indices[~(np.arange(k_indices.shape[0]) == 1)].reshape(-1)\n",
    "print(\"train_idx_reference is \", train_idx_reference)\n",
    "print(\"the shape for the train_idx_reference is\", np.shape(train_idx_reference))\n",
    "\n",
    "'''\n",
    "x_train = []\n",
    "for i in range(len(train_idx)):\n",
    "    x_train.append(x[train_idx[i]])\n",
    "\n",
    "print(\"x_train is \", x_train)\n",
    "print(\"x_train's shape is \", np.shape(x_train))\n",
    "'''"
   ]
  },
  {
   "cell_type": "code",
   "execution_count": 81,
   "metadata": {},
   "outputs": [],
   "source": [
    "from costs import compute_mse\n",
    "from ridge_regression import ridge_regression\n",
    "from build_polynomial import build_poly\n",
    "\n",
    "def cross_validation(y, x, k_indices, k, lambda_, degree):\n",
    "    \"\"\"return the loss of ridge regression.\"\"\"\n",
    "    # ***************************************************\n",
    "    # INSERT YOUR CODE HERE\n",
    "    # get k'th subgroup in test, others in train: TODO\n",
    "    # ***************************************************\n",
    "    \n",
    "    \n",
    "    # training set's indice\n",
    "    train_idx = []\n",
    "    for i in range(np.shape(k_indices)[0]):\n",
    "        if i != k:\n",
    "            for j in range(np.shape(k_indices)[1]):\n",
    "                train_idx.append(k_indices[i][j])\n",
    "    \n",
    "    # get x & y training set\n",
    "    x_train = []\n",
    "    for i in range(np.shape(train_idx)[0]):\n",
    "        x_train.append(x[train_idx[i]])\n",
    "        \n",
    "    y_train = []\n",
    "    for i in range(np.shape(train_idx)[0]):\n",
    "        y_train.append(y[train_idx[i]])\n",
    "        \n",
    "    # test set's index\n",
    "    test_idx = k_indices[k]\n",
    "    \n",
    "    # get x & y testing set\n",
    "    x_test = x[test_idx]\n",
    "    y_test = y[test_idx]\n",
    "    \n",
    "    # raise NotImplementedError\n",
    "    # ***************************************************\n",
    "    # INSERT YOUR CODE HERE\n",
    "    # form data with polynomial degree: TODO\n",
    "    # ***************************************************\n",
    "    \n",
    "    tx_train = build_poly(x_train, degree)\n",
    "    tx_test = build_poly(x_test, degree)\n",
    "    \n",
    "    # raise NotImplementedError\n",
    "    # ***************************************************\n",
    "    # INSERT YOUR CODE HERE\n",
    "    # ridge regression: TODO\n",
    "    # ***************************************************\n",
    "    \n",
    "    w_ridge = ridge_regression(y_train, tx_train, lambda_)\n",
    "    \n",
    "    # raise NotImplementedError\n",
    "    # ***************************************************\n",
    "    # INSERT YOUR CODE HERE\n",
    "    # calculate the loss for train and test data: TODO\n",
    "    # ***************************************************\n",
    "    \n",
    "    loss_tr = np.sqrt(2*compute_mse(y_train, tx_train, w_ridge))\n",
    "    loss_te = np.sqrt(2*compute_mse(y_test, tx_test, w_ridge))\n",
    "    \n",
    "    #raise NotImplementedError\n",
    "    \n",
    "    return loss_tr, loss_te"
   ]
  },
  {
   "cell_type": "code",
   "execution_count": 83,
   "metadata": {},
   "outputs": [
    {
     "data": {
      "image/png": "[encoded data removed]",
      "text/plain": [
       "<Figure size 432x288 with 1 Axes>"
      ]
     },
     "metadata": {
      "needs_background": "light"
     },
     "output_type": "display_data"
    }
   ],
   "source": [
    "from plots import cross_validation_visualization\n",
    "\n",
    "def cross_validation_demo():\n",
    "    seed = 1\n",
    "    degree = 7\n",
    "    k_fold = 4\n",
    "    lambdas = np.logspace(-4, 0, 30)\n",
    "    # split data in k fold\n",
    "    k_indices = build_k_indices(y, k_fold, seed)\n",
    "    # define lists to store the loss of training data and test data\n",
    "    rmse_tr = []\n",
    "    rmse_te = []\n",
    "    # ***************************************************\n",
    "    # INSERT YOUR CODE HERE\n",
    "    # cross validation: TODO\n",
    "    # ***************************************************  \n",
    "    \n",
    "    for lambda_ in lambdas:\n",
    "        rmse_tr_k = []\n",
    "        rmse_te_k = []\n",
    "        for k in range(k_fold):\n",
    "            loss_train, loss_test = cross_validation(y, x, k_indices, k, lambda_, degree)\n",
    "            rmse_tr_k.append(loss_train)\n",
    "            rmse_te_k.append(loss_test)\n",
    "        \n",
    "        rmse_tr.append(np.mean(rmse_tr_k))\n",
    "        rmse_te.append(np.mean(rmse_te_k))\n",
    "    \n",
    "    cross_validation_visualization(lambdas, rmse_tr, rmse_te)\n",
    "\n",
    "cross_validation_demo()"
   ]
  },
  {
   "cell_type": "markdown",
   "metadata": {},
   "source": [
    "## Bias-Variance Decomposition\n",
    "Visualize bias-variance trade-off by implementing the function `bias_variance_demo()` below:"
   ]
  },
  {
   "cell_type": "code",
   "execution_count": null,
   "metadata": {},
   "outputs": [],
   "source": [
    "from least_squares import least_squares\n",
    "from split_data import split_data\n",
    "from plots import bias_variance_decomposition_visualization\n",
    "\n",
    "def bias_variance_demo():\n",
    "    \"\"\"The entry.\"\"\"\n",
    "    # define parameters\n",
    "    seeds = range(100)\n",
    "    num_data = 10000\n",
    "    ratio_train = 0.005\n",
    "    degrees = range(1, 10)\n",
    "    \n",
    "    # define list to store the variable\n",
    "    rmse_tr = np.empty((len(seeds), len(degrees)))\n",
    "    rmse_te = np.empty((len(seeds), len(degrees)))\n",
    "    \n",
    "    for index_seed, seed in enumerate(seeds):\n",
    "        np.random.seed(seed)\n",
    "        x = np.linspace(0.1, 2 * np.pi, num_data)\n",
    "        y = np.sin(x) + 0.3 * np.random.randn(num_data).T\n",
    "        # ***************************************************\n",
    "        # INSERT YOUR CODE HERE\n",
    "        # split data with a specific seed: TODO\n",
    "        # ***************************************************\n",
    "        raise NotImplementedError\n",
    "        # ***************************************************\n",
    "        # INSERT YOUR CODE HERE\n",
    "        # bias_variance_decomposition: TODO\n",
    "        # ***************************************************\n",
    "        raise NotImplementedError\n",
    "\n",
    "    bias_variance_decomposition_visualization(degrees, rmse_tr, rmse_te)\n",
    "\n",
    "bias_variance_demo()"
   ]
  }
 ],
 "metadata": {
  "anaconda-cloud": {},
  "kernelspec": {
   "display_name": "Python 3",
   "language": "python",
   "name": "python3"
  },
  "language_info": {
   "codemirror_mode": {
    "name": "ipython",
    "version": 3
   },
   "file_extension": ".py",
   "mimetype": "text/x-python",
   "name": "python",
   "nbconvert_exporter": "python",
   "pygments_lexer": "ipython3",
   "version": "3.8.5"
  }
 },
 "nbformat": 4,
 "nbformat_minor": 1
}
