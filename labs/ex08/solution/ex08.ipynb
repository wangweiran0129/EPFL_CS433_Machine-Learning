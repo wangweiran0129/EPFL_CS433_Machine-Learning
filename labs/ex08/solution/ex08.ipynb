{
 "cells": [
  {
   "cell_type": "code",
   "execution_count": 1,
   "metadata": {},
   "outputs": [],
   "source": [
    "# Useful starting lines\n",
    "%matplotlib inline\n",
    "import numpy as np\n",
    "import matplotlib.pyplot as plt\n",
    "import torch\n",
    "import torch.nn as nn\n",
    "from torch.autograd import Variable\n",
    "from test_utils import test\n",
    "%load_ext autoreload\n",
    "%autoreload 2"
   ]
  },
  {
   "cell_type": "code",
   "execution_count": 2,
   "metadata": {},
   "outputs": [],
   "source": [
    "# Defining a toy dataset\n",
    "x_train = np.array([[3.3], [4.4], [5.5], [6.71], [6.93], [4.168], \n",
    "                    [9.779], [6.182], [7.59], [2.167], [7.042], \n",
    "                    [10.791], [5.313], [7.997], [3.1]], dtype=np.float32)\n",
    "\n",
    "y_train = np.array([[1.7], [2.76], [2.09], [3.19], [1.694], [1.573], \n",
    "                    [3.366], [2.596], [2.53], [1.221], [2.827], \n",
    "                        [3.465], [1.65], [2.904], [1.3]], dtype=np.float32)"
   ]
  },
  {
   "cell_type": "markdown",
   "metadata": {},
   "source": [
    "## Linear regression"
   ]
  },
  {
   "cell_type": "code",
   "execution_count": 3,
   "metadata": {},
   "outputs": [],
   "source": [
    "class MyLinearRegression:\n",
    "    \"\"\"implementation of a linear regression model with 1d input with a similar signature as nn.Module\n",
    "    \"\"\"\n",
    "    def __init__(self):\n",
    "        # TODO: Define the parameters of the model (weights and biases) and initialize them\n",
    "        ### SOLUTION\n",
    "        self.w = torch.tensor([0.], requires_grad=True)\n",
    "        self.b = torch.tensor([0.], requires_grad=True)\n",
    "        ### TEMPLATE\n",
    "        # self.w = None\n",
    "        # self.b = None\n",
    "        # raise NotImplementedError\n",
    "        ### END SOLUTION\n",
    "        \n",
    "    def forward(self, x):\n",
    "        \"\"\"compute predictions based on the inputs.\n",
    "        Inputs:\n",
    "            x: torch.Tensor of floats, shape (n) where n is the size of batch\n",
    "        \n",
    "        Returns:\n",
    "            tensor of floats, shape (n)\n",
    "            \n",
    "        >>> model = MyLinearRegression()  \n",
    "        >>> def test():\n",
    "        ...   model.w.data.fill_(2)\n",
    "        ...   model.b.data.fill_(3)\n",
    "        ...   return model(torch.tensor([0.0, 1.0, 2.0])).tolist()\n",
    "        >>> test()\n",
    "        [3.0, 5.0, 7.0]\n",
    "        \"\"\" \n",
    "        ### SOLUTION\n",
    "        return self.w * x + self.b\n",
    "        ### TEMPLATE\n",
    "        # raise NotImplementedError\n",
    "        ### END SOLUTION\n",
    "    \n",
    "    def parameters(self):\n",
    "        \"\"\"returns a list of model's parameters \n",
    "        \n",
    "        Returns:\n",
    "            list of model parameters\n",
    "            \n",
    "        >>> model = MyLinearRegression()  \n",
    "        >>> model.b in model.parameters() and model.w in model.parameters()\n",
    "        True\n",
    "        \"\"\"\n",
    "        # TODO: this function should return a list of parameters of the model\n",
    "        ### SOLUTION\n",
    "        return [self.w, self.b]\n",
    "        ### TEMPLATE\n",
    "        # raise NotImplementedError\n",
    "        ### END SOLUTION\n",
    "    \n",
    "    def __call__(self, x):\n",
    "        # Convenience function\n",
    "        return self.forward(x)"
   ]
  },
  {
   "cell_type": "code",
   "execution_count": 4,
   "metadata": {},
   "outputs": [
    {
     "name": "stdout",
     "output_type": "stream",
     "text": [
      "✅ Your `forward` passes some basic tests.\n",
      "✅ Your `parameters` passes some basic tests.\n"
     ]
    }
   ],
   "source": [
    "test(MyLinearRegression.forward)\n",
    "test(MyLinearRegression.parameters)"
   ]
  },
  {
   "cell_type": "code",
   "execution_count": 5,
   "metadata": {},
   "outputs": [],
   "source": [
    "def mselossfunc(pred, y):\n",
    "    \"\"\"the MSE loss function\n",
    "    Inputs:\n",
    "        pred: tensor of floats, shape (n)\n",
    "        y: tensor of floats, shape (n)\n",
    "    \n",
    "    Returns:\n",
    "        a single-element tensor, the average of MSEs\n",
    "    \n",
    "    >>> mselossfunc(torch.tensor([1., 3.]), torch.tensor([3., 2.])).tolist()\n",
    "    2.5\n",
    "    \"\"\"\n",
    "    ### SOLUTION\n",
    "    return (pred - y).pow(2).mean()\n",
    "    ### TEMPLATE\n",
    "    # raise NotImplementedError\n",
    "    ### END SOLUTION"
   ]
  },
  {
   "cell_type": "code",
   "execution_count": 6,
   "metadata": {},
   "outputs": [
    {
     "name": "stdout",
     "output_type": "stream",
     "text": [
      "✅ Your `mselossfunc` passes some basic tests.\n"
     ]
    }
   ],
   "source": [
    "test(mselossfunc)"
   ]
  },
  {
   "cell_type": "code",
   "execution_count": 7,
   "metadata": {},
   "outputs": [],
   "source": [
    "def train(features, labels, model, lossfunc, optimizer, num_epoch):\n",
    "    \n",
    "    \"\"\"train a model foinr num_epoch epochs on the given data\n",
    "    \n",
    "    Inputs:\n",
    "        features: a numpy array\n",
    "        labels: a numpy array\n",
    "        model: an instance of nn.Module (or classes with similar signature)\n",
    "        lossfunc: a function : (prediction outputs, correct outputs) -> loss\n",
    "        optimizer: an instance of torch.optim.Optimizer\n",
    "        num_epoch: an int\n",
    "    \"\"\"\n",
    "\n",
    "    for epoch in range(num_epoch):\n",
    "        # TODO: Step 1 - create torch variables corresponding to features and labels\n",
    "        ### SOLUTION\n",
    "        inputs = torch.from_numpy(features)\n",
    "        targets = torch.from_numpy(labels)\n",
    "        ### TEMPLATE\n",
    "        # raise NotImplementedError\n",
    "        ### END SOLUTION\n",
    "\n",
    "        # TODO: Step 2 - compute model predictions and loss\n",
    "        ### SOLUTION\n",
    "        outputs = model(inputs)\n",
    "        loss = lossfunc(outputs, targets)\n",
    "        ### TEMPLATE\n",
    "        # raise NotImplementedError\n",
    "        ### END SOLUTION\n",
    "        \n",
    "        # TODO: Step 3 - do a backward pass and a gradient update step\n",
    "        # Hint: Do not forget to first clear the gradients from the previous rounds\n",
    "        ### SOLUTION\n",
    "        optimizer.zero_grad()  \n",
    "        loss.backward()\n",
    "        optimizer.step()\n",
    "        ### TEMPLATE\n",
    "        # raise NotImplementedError\n",
    "        ### END SOLUTION\n",
    "        \n",
    "        if epoch % 10 == 0:\n",
    "            print ('Epoch [%d/%d], Loss: %.4f' %(epoch+1, num_epoch, loss.item()))\n",
    "        \n",
    "        \n",
    "def visualize(x_train, y_train, model):\n",
    "    # A convenience function for visualizing predictions given by the model\n",
    "\n",
    "    predicted = model(torch.from_numpy(x_train)).data.numpy()\n",
    "    order = np.argsort(x_train, axis=0)\n",
    "    plt.plot(x_train[order].flatten(), y_train[order].flatten(), 'ro', label='Original data')\n",
    "    plt.plot(x_train[order].flatten(), predicted[order].flatten(), label='Fitted line')\n",
    "    plt.legend()\n",
    "    plt.show()"
   ]
  },
  {
   "cell_type": "code",
   "execution_count": 8,
   "metadata": {},
   "outputs": [
    {
     "name": "stdout",
     "output_type": "stream",
     "text": [
      "Epoch [1/50], Loss: 5.9467\n",
      "Epoch [11/50], Loss: 1.1699\n",
      "Epoch [21/50], Loss: 0.3857\n",
      "Epoch [31/50], Loss: 0.2567\n",
      "Epoch [41/50], Loss: 0.2352\n"
     ]
    },
    {
     "data": {
      "image/png": "[encoded data removed]",
      "text/plain": [
       "<Figure size 432x288 with 1 Axes>"
      ]
     },
     "metadata": {
      "needs_background": "light"
     },
     "output_type": "display_data"
    }
   ],
   "source": [
    "# Training and visualizing predictions made by linear regression model\n",
    "model = MyLinearRegression()\n",
    "optimizer = torch.optim.SGD(model.parameters(), lr=1e-3)\n",
    "\n",
    "train(features=x_train,\n",
    "      labels=y_train,\n",
    "      model=model,\n",
    "      lossfunc=mselossfunc, \n",
    "      optimizer=optimizer,\n",
    "      num_epoch=50)\n",
    "visualize(x_train, y_train, model)"
   ]
  },
  {
   "cell_type": "markdown",
   "metadata": {},
   "source": [
    "## Linear Regression (as nn.Module)"
   ]
  },
  {
   "cell_type": "code",
   "execution_count": 9,
   "metadata": {},
   "outputs": [],
   "source": [
    "class NNLinearRegression(nn.Module):\n",
    "    \"\"\"implementation of a linear regression model with 1d input as a nn.Module\n",
    "    \"\"\"\n",
    "    def __init__(self):\n",
    "        # TODO: call the super class init function. PyTorch needs this to initialize the model.\n",
    "        ### SOLUTION\n",
    "        super().__init__()\n",
    "        ### TEMPLATE\n",
    "        # raise NotImplementedError\n",
    "        ### END SOLUTION\n",
    "        # TODO: Define the parameters of the model (weights and biases) and initialize them\n",
    "        ### SOLUTION\n",
    "        self.w = nn.Parameter(torch.tensor([0.], requires_grad=True))\n",
    "        self.b = nn.Parameter(torch.tensor([0.], requires_grad=True))\n",
    "        ### TEMPLATE\n",
    "        # self.w = None\n",
    "        # self.b = None\n",
    "        # raise NotImplementedError\n",
    "        ### END SOLUTION\n",
    "        \n",
    "    def forward(self, x):\n",
    "        \"\"\"compute predictions based on the inputs.\n",
    "        Inputs:\n",
    "            x: torch.Tensor of floats, shape (n) where n is the size of batch\n",
    "        \n",
    "        Returns:\n",
    "            tensor of floats, shape (n)\n",
    "            \n",
    "        >>> model = MyLinearRegression()  \n",
    "        >>> def test():\n",
    "        ...   model.w.data.fill_(2)\n",
    "        ...   model.b.data.fill_(3)\n",
    "        ...   return model(torch.tensor([0.0, 1.0, 2.0])).tolist()\n",
    "        >>> test()\n",
    "        [3.0, 5.0, 7.0]\n",
    "        \"\"\" \n",
    "        ### SOLUTION\n",
    "        return self.w * x + self.b\n",
    "        ### TEMPLATE\n",
    "        # raise NotImplementedError\n",
    "        ### END SOLUTION"
   ]
  },
  {
   "cell_type": "code",
   "execution_count": 10,
   "metadata": {},
   "outputs": [
    {
     "name": "stdout",
     "output_type": "stream",
     "text": [
      "✅ Your `forward` passes some basic tests.\n"
     ]
    }
   ],
   "source": [
    "test(NNLinearRegression.forward)"
   ]
  },
  {
   "cell_type": "code",
   "execution_count": 11,
   "metadata": {},
   "outputs": [
    {
     "name": "stdout",
     "output_type": "stream",
     "text": [
      "Epoch [1/50], Loss: 5.9467\n",
      "Epoch [11/50], Loss: 1.1699\n",
      "Epoch [21/50], Loss: 0.3857\n",
      "Epoch [31/50], Loss: 0.2567\n",
      "Epoch [41/50], Loss: 0.2352\n"
     ]
    },
    {
     "data": {
      "image/png": "[encoded data removed]",
      "text/plain": [
       "<Figure size 432x288 with 1 Axes>"
      ]
     },
     "metadata": {
      "needs_background": "light"
     },
     "output_type": "display_data"
    }
   ],
   "source": [
    "# Training and visualizing predictions made by linear regression model\n",
    "model = NNLinearRegression()\n",
    "optimizer = torch.optim.SGD(model.parameters(), lr=1e-3)\n",
    "\n",
    "train(features=x_train,\n",
    "      labels=y_train,\n",
    "      model=model,\n",
    "      lossfunc=mselossfunc, \n",
    "      optimizer=optimizer,\n",
    "      num_epoch=50)\n",
    "visualize(x_train, y_train, model)"
   ]
  },
  {
   "cell_type": "markdown",
   "metadata": {},
   "source": [
    "## Linear Regression (using nn package)"
   ]
  },
  {
   "cell_type": "code",
   "execution_count": 12,
   "metadata": {},
   "outputs": [
    {
     "name": "stdout",
     "output_type": "stream",
     "text": [
      "Epoch [1/100], Loss: 44.2611\n",
      "Epoch [11/100], Loss: 7.5463\n",
      "Epoch [21/100], Loss: 1.5200\n",
      "Epoch [31/100], Loss: 0.5302\n",
      "Epoch [41/100], Loss: 0.3671\n",
      "Epoch [51/100], Loss: 0.3396\n",
      "Epoch [61/100], Loss: 0.3344\n",
      "Epoch [71/100], Loss: 0.3328\n",
      "Epoch [81/100], Loss: 0.3319\n",
      "Epoch [91/100], Loss: 0.3310\n"
     ]
    },
    {
     "data": {
      "image/png": "[encoded data removed]",
      "text/plain": [
       "<Figure size 432x288 with 1 Axes>"
      ]
     },
     "metadata": {
      "needs_background": "light"
     },
     "output_type": "display_data"
    }
   ],
   "source": [
    "# Training and visualizing predictions made by linear regression model (nn package)\n",
    "\n",
    "# TODO: Using pre-existing modules from nn package, create a 1d linear regression model\n",
    "### SOLUTION\n",
    "model = nn.Linear(1, 1)\n",
    "### TEMPLATE\n",
    "# model = None\n",
    "# raise NotImplementedError\n",
    "### END SOLUTION\n",
    "\n",
    "\n",
    "# TODO: use loss function from nn package\n",
    "### SOLUTION\n",
    "lossfunc = nn.MSELoss()\n",
    "### TEMPLATE\n",
    "# lossfunc = None\n",
    "# raise NotImplementedError\n",
    "### END SOLUTION\n",
    "\n",
    "optimizer = torch.optim.SGD(model.parameters(), lr=1e-3)\n",
    "\n",
    "train(features=x_train,\n",
    "      labels=y_train,\n",
    "      model=model,\n",
    "      lossfunc=lossfunc,\n",
    "      optimizer=optimizer,\n",
    "      num_epoch=100)\n",
    "visualize(x_train, y_train, model)"
   ]
  },
  {
   "cell_type": "markdown",
   "metadata": {},
   "source": [
    "## MLP"
   ]
  },
  {
   "cell_type": "code",
   "execution_count": 16,
   "metadata": {},
   "outputs": [
    {
     "name": "stdout",
     "output_type": "stream",
     "text": [
      "Epoch [1/300], Loss: 9.9786\n",
      "Epoch [11/300], Loss: 1.2138\n",
      "Epoch [21/300], Loss: 0.7076\n",
      "Epoch [31/300], Loss: 0.7442\n",
      "Epoch [41/300], Loss: 0.4464\n",
      "Epoch [51/300], Loss: 0.3967\n",
      "Epoch [61/300], Loss: 0.2938\n",
      "Epoch [71/300], Loss: 0.2397\n",
      "Epoch [81/300], Loss: 0.2088\n",
      "Epoch [91/300], Loss: 0.1949\n",
      "Epoch [101/300], Loss: 0.1892\n",
      "Epoch [111/300], Loss: 0.1869\n",
      "Epoch [121/300], Loss: 0.1856\n",
      "Epoch [131/300], Loss: 0.1848\n",
      "Epoch [141/300], Loss: 0.1842\n",
      "Epoch [151/300], Loss: 0.1837\n",
      "Epoch [161/300], Loss: 0.1833\n",
      "Epoch [171/300], Loss: 0.1829\n",
      "Epoch [181/300], Loss: 0.1826\n",
      "Epoch [191/300], Loss: 0.1822\n",
      "Epoch [201/300], Loss: 0.1818\n",
      "Epoch [211/300], Loss: 0.1815\n",
      "Epoch [221/300], Loss: 0.1812\n",
      "Epoch [231/300], Loss: 0.1809\n",
      "Epoch [241/300], Loss: 0.1805\n",
      "Epoch [251/300], Loss: 0.1802\n",
      "Epoch [261/300], Loss: 0.1800\n",
      "Epoch [271/300], Loss: 0.1797\n",
      "Epoch [281/300], Loss: 0.1794\n",
      "Epoch [291/300], Loss: 0.1792\n"
     ]
    },
    {
     "data": {
      "image/png": "[encoded data removed]",
      "text/plain": [
       "<Figure size 432x288 with 1 Axes>"
      ]
     },
     "metadata": {
      "needs_background": "light"
     },
     "output_type": "display_data"
    }
   ],
   "source": [
    "class MLP(nn.Module):\n",
    "    def __init__(self, hidden_size):\n",
    "        super(MLP, self).__init__()\n",
    "        # TODO: Define parameters / layers of a multi-layered perceptron with one hidden layer\n",
    "        ### SOLUTION\n",
    "        self.fc1 = nn.Linear(1, hidden_size)\n",
    "        self.activation_fn = nn.Sigmoid()\n",
    "        self.fc2 = nn.Linear(hidden_size, 1) \n",
    "        ### TEMPLATE\n",
    "        # raise NotImplementedError\n",
    "        ### END SOLUTION\n",
    "    \n",
    "    def forward(self, x):\n",
    "        # TODO: implement forward computation\n",
    "        ### SOLUTION\n",
    "        out = self.fc2(self.activation_fn(self.fc1(x)))\n",
    "        return out\n",
    "        ### TEMPLATE\n",
    "        # raise NotImplementedError\n",
    "        ### END SOLUTION\n",
    "    \n",
    "# TODO: Play with learning rate, hidden size, and optimizer type for multi-layered perceptron\n",
    "### SOLUTION\n",
    "hidden_size = 3\n",
    "learning_rate = 1e-1\n",
    "### TEMPLATE\n",
    "# hidden_size = ...\n",
    "# learning_rate = ...\n",
    "### END SOLUTION\n",
    "\n",
    "model = MLP(hidden_size=hidden_size)\n",
    "\n",
    "### SOLUTION\n",
    "optimizer = torch.optim.Adam(model.parameters(), lr=learning_rate)\n",
    "### TEMPLATE\n",
    "# optimizer = ...\n",
    "### END SOLUTION\n",
    "\n",
    "train(features=x_train,\n",
    "      labels=y_train,\n",
    "      model=model,\n",
    "      lossfunc=lossfunc,\n",
    "      optimizer=optimizer,\n",
    "      num_epoch=300)\n",
    "visualize(x_train, y_train, model)"
   ]
  },
  {
   "cell_type": "markdown",
   "metadata": {},
   "source": [
    "## Reproducibility\n",
    "Since parameters are usually initialized randomly, \n",
    "running the same code twice will produce different outputs.\n",
    "This makes it hard to debug the code or re-use it in the future by others.\n",
    "To alleviate this problem, we can manually set the random seed at the beginning of the code. "
   ]
  },
  {
   "cell_type": "code",
   "execution_count": 14,
   "metadata": {},
   "outputs": [],
   "source": [
    "\"\"\"\n",
    "Set the numpy and torch random seed to a fixed number. \n",
    "\"\"\"\n",
    "def set_seed(seed):\n",
    "    \"\"\"\n",
    "    >>> set_seed(45)\n",
    "    >>> x = torch.randn(1).item()\n",
    "    >>> set_seed(45)\n",
    "    >>> torch.randn(1).item() == x\n",
    "    True\n",
    "    \"\"\"\n",
    "    ### SOLUTION\n",
    "    torch.manual_seed(45)\n",
    "    np.random.seed(45)\n",
    "    ### TEMPLATE\n",
    "    # raise NotImplementedError\n",
    "    ### END SOLUTION"
   ]
  },
  {
   "cell_type": "code",
   "execution_count": 15,
   "metadata": {},
   "outputs": [
    {
     "name": "stdout",
     "output_type": "stream",
     "text": [
      "✅ Your `set_seed` passes some basic tests.\n"
     ]
    }
   ],
   "source": [
    "test(set_seed)"
   ]
  }
 ],
 "metadata": {
  "kernelspec": {
   "display_name": "Python 3",
   "language": "python",
   "name": "python3"
  },
  "language_info": {
   "codemirror_mode": {
    "name": "ipython",
    "version": 3
   },
   "file_extension": ".py",
   "mimetype": "text/x-python",
   "name": "python",
   "nbconvert_exporter": "python",
   "pygments_lexer": "ipython3",
   "version": "3.8.5"
  }
 },
 "nbformat": 4,
 "nbformat_minor": 2
}
