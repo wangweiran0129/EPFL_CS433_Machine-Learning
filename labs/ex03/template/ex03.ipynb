{
 "cells": [
  {
   "cell_type": "code",
   "execution_count": 1,
   "metadata": {},
   "outputs": [],
   "source": [
    "# Useful starting lines\n",
    "%matplotlib inline\n",
    "import numpy as np\n",
    "import matplotlib.pyplot as plt\n",
    "%load_ext autoreload\n",
    "%autoreload 2\n",
    "\n",
    "import sys\n",
    "sys.path.append('/Users/wangweiran/Desktop/CS433-Machine Learning/EPFL_CS433_Machine-Learning/labs/ex02/template')\n",
    "from costs import *\n",
    "from grid_search import *"
   ]
  },
  {
   "cell_type": "markdown",
   "metadata": {},
   "source": [
    "# 1 Least squares and linear basis functions models\n",
    "## 1.1 Least squares"
   ]
  },
  {
   "cell_type": "code",
   "execution_count": 8,
   "metadata": {},
   "outputs": [],
   "source": [
    "def least_squares(y, tx):\n",
    "    \"\"\"calculate the least squares solution.\"\"\"\n",
    "    # ***************************************************\n",
    "    # INSERT YOUR CODE HERE\n",
    "    # least squares: TODO\n",
    "    # returns mse, and optimal weights\n",
    "    # ***************************************************\n",
    "    \n",
    "    # w* = (X^T*X)^{-1} * X^T * y\n",
    "    # optimal_w_1 = np.dot(np.dot(np.linalg.inv(np.dot(tx.T, tx)), tx.T), y)\n",
    "    # x^T * x * w = x^T * y\n",
    "    optimal_w = np.linalg.solve(np.dot(tx.T, tx), np.dot(tx.T, y))\n",
    "    \n",
    "    \n",
    "    # compute_loss(y, tx, w, flag = 0)\n",
    "    mse = compute_loss(y, tx, optimal_w)\n",
    "    \n",
    "    return mse, optimal_w\n",
    "    \n",
    "    # raise NotImplementedError"
   ]
  },
  {
   "cell_type": "markdown",
   "metadata": {},
   "source": [
    "### Load the data\n",
    "Here we will reuse the dataset `height_weight_genders.csv` from previous exercise section to check the correctness of your implementation. Please compare it with your previous result."
   ]
  },
  {
   "cell_type": "code",
   "execution_count": 9,
   "metadata": {},
   "outputs": [],
   "source": [
    "from helpers import *\n",
    "def test_your_least_squares():\n",
    "    height, weight, gender = load_data_from_ex02(sub_sample=False, add_outlier=False)\n",
    "    x, mean_x, std_x = standardize(height)\n",
    "    y, tx = build_model_data(x, weight)\n",
    "    #print(tx)\n",
    "    # ***************************************************\n",
    "    # INSERT YOUR CODE HERE\n",
    "    # least square or grid search: TODO\n",
    "    # this code should compare the optimal weights obtained \n",
    "    # by least squares vs. grid search\n",
    "    # ***************************************************\\\n",
    "    \n",
    "    optimal_w_least_square = least_squares(y, tx)[1]\n",
    "    # optimal_w_least_square_1 = least_squares(y, tx)[2]\n",
    "    \n",
    "    # grid_search(y, tx, w0, w1)\n",
    "    w0, w1 = generate_w(100)\n",
    "    losses = grid_search(y, tx, w0, w1)\n",
    "    optimal_w_grid_search = get_best_parameters(w0, w1, losses)[1], get_best_parameters(w0, w1, losses)[2]\n",
    "    \n",
    "    print(\"optimal w got from least square\", optimal_w_least_square)\n",
    "    # print(\"optimal w got from least square 1\", optimal_w_least_square_1)\n",
    "    print(\"optimal w got from grid search\", optimal_w_grid_search)\n",
    "    \n",
    "    #raise NotImplementedError"
   ]
  },
  {
   "cell_type": "markdown",
   "metadata": {},
   "source": [
    "Test it here"
   ]
  },
  {
   "cell_type": "code",
   "execution_count": 11,
   "metadata": {},
   "outputs": [
    {
     "name": "stdout",
     "output_type": "stream",
     "text": [
      "optimal w got from least square [73.293922   13.47971243]\n",
      "optimal w got from grid search (72.72727272727272, 13.636363636363626)\n"
     ]
    }
   ],
   "source": [
    "test_your_least_squares()"
   ]
  },
  {
   "cell_type": "markdown",
   "metadata": {},
   "source": [
    "## 1.2 Least squares with a linear basis function model\n",
    "Start from this section, we will use the dataset `dataEx3.csv`.\n",
    "\n",
    "### Implement polynomial basis functions"
   ]
  },
  {
   "cell_type": "code",
   "execution_count": 12,
   "metadata": {
    "scrolled": true
   },
   "outputs": [
    {
     "name": "stdout",
     "output_type": "stream",
     "text": [
      "shape of x (50,)\n",
      "shape of y (50,)\n"
     ]
    }
   ],
   "source": [
    "# load dataset\n",
    "x, y = load_data()\n",
    "print(\"shape of x {}\".format(x.shape))\n",
    "print(\"shape of y {}\".format(y.shape))"
   ]
  },
  {
   "cell_type": "code",
   "execution_count": 13,
   "metadata": {},
   "outputs": [],
   "source": [
    "def build_poly(x, degree):\n",
    "    # degree is the polynomial degree, e.g.\n",
    "    # degree = 3\n",
    "    # fw(X) = w0 + w1*x + w2*(x^2) + w3*(x^3)\n",
    "    \"\"\"polynomial basis functions for input data x, for j=0 up to j=degree.\"\"\"\n",
    "    # ***************************************************\n",
    "    # INSERT YOUR CODE HERE\n",
    "    # polynomial basis function: TODO\n",
    "    # this function should return the matrix formed\n",
    "    # by applying the polynomial basis to the input data\n",
    "    # ***************************************************\n",
    "    \n",
    "\n",
    "    ones = np.ones([np.shape(x)[0], 1])\n",
    "    \n",
    "    phi_xn = np.zeros([np.shape(x)[0], degree])\n",
    "    for i in range(np.shape(x)[0]):\n",
    "        for j in range(degree):\n",
    "            phi_xn[i][j] = pow(x[i], j+1)\n",
    "            \n",
    "    phi = np.hstack((ones, phi_xn))\n",
    "            \n",
    "    return phi\n",
    "\n",
    "    #raise NotImplementedError"
   ]
  },
  {
   "cell_type": "code",
   "execution_count": 14,
   "metadata": {},
   "outputs": [
    {
     "data": {
      "text/plain": [
       "'\\narray_test = build_poly(x, 0)\\nprint(np.shape(array_test))\\nprint(array_test)\\n'"
      ]
     },
     "execution_count": 14,
     "metadata": {},
     "output_type": "execute_result"
    }
   ],
   "source": [
    "\"\"\"\n",
    "array_test = build_poly(x, 0)\n",
    "print(np.shape(array_test))\n",
    "print(array_test)\n",
    "\"\"\""
   ]
  },
  {
   "cell_type": "markdown",
   "metadata": {},
   "source": [
    "Let us play with polynomial regression. Note that we will use your implemented function `compute_mse`. Please copy and paste your implementation from exercise02."
   ]
  },
  {
   "cell_type": "code",
   "execution_count": 15,
   "metadata": {},
   "outputs": [],
   "source": [
    "from plots import *\n",
    "\n",
    "def polynomial_regression():\n",
    "    \"\"\"Constructing the polynomial basis function expansion of the data,\n",
    "       and then running least squares regression.\"\"\"\n",
    "    # define parameters\n",
    "    degrees = [1, 3, 7, 12]\n",
    "    \n",
    "    # define the structure of the figure\n",
    "    num_row = 2\n",
    "    num_col = 2\n",
    "    f, axs = plt.subplots(num_row, num_col)\n",
    "\n",
    "    for ind, degree in enumerate(degrees):\n",
    "        # ***************************************************\n",
    "        # INSERT YOUR CODE HERE\n",
    "        # form the data to do polynomial regression.: TODO\n",
    "        # ***************************************************\n",
    "        \n",
    "        phi = build_poly(x, degree)\n",
    "        \n",
    "        #raise NotImplementedError\n",
    "        # ***************************************************\n",
    "        # INSERT YOUR CODE HERE\n",
    "        # least square and calculate RMSE: TODO\n",
    "        # ***************************************************\n",
    "        \n",
    "        # RMSE = np.sqrt(2 * MSE(w))\n",
    "        \n",
    "        mse_ls, weights = least_squares(y, phi)\n",
    "        rmse = np.sqrt(2 * mse_ls)\n",
    "        \n",
    "        #raise NotImplementedError\n",
    "\n",
    "        print(\"Processing {i}th experiment, degree={d}, rmse={loss}\".format(\n",
    "              i=ind + 1, d=degree, loss=rmse))\n",
    "        # plot fit\n",
    "        plot_fitted_curve(\n",
    "            y, x, weights, degree, axs[ind // num_col][ind % num_col])\n",
    "    plt.tight_layout()\n",
    "    plt.savefig(\"visualize_polynomial_regression\")\n",
    "    plt.show()"
   ]
  },
  {
   "cell_type": "markdown",
   "metadata": {},
   "source": [
    "Run polynomial regression"
   ]
  },
  {
   "cell_type": "code",
   "execution_count": 16,
   "metadata": {},
   "outputs": [
    {
     "name": "stdout",
     "output_type": "stream",
     "text": [
      "Processing 1th experiment, degree=1, rmse=0.47187607963421874\n",
      "Processing 2th experiment, degree=3, rmse=0.25858277667737484\n",
      "Processing 3th experiment, degree=7, rmse=0.24965870360907552\n",
      "Processing 4th experiment, degree=12, rmse=0.24328247481248672\n"
     ]
    },
    {
     "data": {
      "image/png": "[encoded data removed]",
      "text/plain": [
       "<Figure size 432x288 with 4 Axes>"
      ]
     },
     "metadata": {
      "needs_background": "light"
     },
     "output_type": "display_data"
    }
   ],
   "source": [
    "polynomial_regression()"
   ]
  },
  {
   "cell_type": "markdown",
   "metadata": {},
   "source": [
    "# 2 Evaluating model predication performance\n",
    "\n",
    "\n",
    "Let us show the train and test splits for various polynomial degrees. First of all, please fill in the function `split_data()`"
   ]
  },
  {
   "cell_type": "code",
   "execution_count": 17,
   "metadata": {},
   "outputs": [],
   "source": [
    "def split_data(x, y, ratio, seed=1):\n",
    "    \"\"\"\n",
    "    split the dataset based on the split ratio. If ratio is 0.8 \n",
    "    you will have 80% of your data set dedicated to training \n",
    "    and the rest dedicated to testing\n",
    "    \"\"\"\n",
    "    # set seed\n",
    "    np.random.seed(seed)\n",
    "    # ***************************************************\n",
    "    # INSERT YOUR CODE HERE\n",
    "    # split the data based on the given ratio: TODO\n",
    "    # ***************************************************\n",
    "    \n",
    "    split_location = int(ratio * x.shape[0])\n",
    "    \n",
    "    x_train = x[:split_location]\n",
    "    x_test = x[split_location:]\n",
    "    \n",
    "    y_train = y[:split_location]\n",
    "    y_test = y[split_location:]\n",
    "    \n",
    "    return x_train, y_train, x_test, y_test\n",
    "    \n",
    "    #raise NotImplementedError"
   ]
  },
  {
   "cell_type": "markdown",
   "metadata": {},
   "source": [
    "Then, test your `split_data` function below."
   ]
  },
  {
   "cell_type": "code",
   "execution_count": 32,
   "metadata": {},
   "outputs": [],
   "source": [
    "def train_test_split_demo(x, y, degree, ratio, seed):\n",
    "    \"\"\"polynomial regression with different split ratios and different degrees.\"\"\"\n",
    "    # ***************************************************\n",
    "    # INSERT YOUR CODE HERE\n",
    "    # split the data, and return train and test data: TODO\n",
    "    # ***************************************************\n",
    "    \n",
    "    x_train, y_train, x_test, y_test = split_data(x, y, ratio, seed)\n",
    "    \n",
    "    #raise NotImplementedError\n",
    "    \n",
    "    # ***************************************************\n",
    "    # INSERT YOUR CODE HERE\n",
    "    # form train and test data with polynomial basis function: TODO\n",
    "    # ***************************************************\n",
    "    \n",
    "    phi_x_train = build_poly(x_train, degree)\n",
    "    phi_x_test = build_poly(x_test, degree)\n",
    "    \n",
    "    #raise NotImplementedError\n",
    "    \n",
    "    # ***************************************************\n",
    "    # INSERT YOUR CODE HERE\n",
    "    # calculate weight through least square: TODO\n",
    "    # ***************************************************\n",
    "    \n",
    "    mse_train, weight_train = least_squares(y_train, phi_x_train)\n",
    "    mse_test = compute_loss(y_test, phi_x_test, weight_train)\n",
    "    \n",
    "    # raise NotImplementedError\n",
    "    # ***************************************************\n",
    "    # INSERT YOUR CODE HERE\n",
    "    # calculate RMSE for train and test data,\n",
    "    # and store them in rmse_tr and rmse_te respectively: TODO\n",
    "    # ***************************************************\n",
    "    \n",
    "    rmse_tr = np.sqrt(2*mse_train)\n",
    "    rmse_te = np.sqrt(2*mse_test)\n",
    "    \n",
    "    #raise NotImplementedError\n",
    "    print(\"proportion={p}, degree={d}, Training RMSE={tr:.3f}, Testing RMSE={te:.3f}\".format(\n",
    "          p=ratio, d=degree, tr=rmse_tr, te=rmse_te))\n"
   ]
  },
  {
   "cell_type": "code",
   "execution_count": 34,
   "metadata": {},
   "outputs": [
    {
     "name": "stdout",
     "output_type": "stream",
     "text": [
      "proportion=0.9, degree=1, Training RMSE=0.488, Testing RMSE=0.296\n",
      "proportion=0.9, degree=3, Training RMSE=0.266, Testing RMSE=0.194\n",
      "proportion=0.9, degree=7, Training RMSE=0.257, Testing RMSE=0.186\n",
      "proportion=0.9, degree=12, Training RMSE=0.250, Testing RMSE=0.169\n",
      "proportion=0.5, degree=1, Training RMSE=0.458, Testing RMSE=0.547\n",
      "proportion=0.5, degree=3, Training RMSE=0.261, Testing RMSE=0.267\n",
      "proportion=0.5, degree=7, Training RMSE=0.232, Testing RMSE=0.313\n",
      "proportion=0.5, degree=12, Training RMSE=0.173, Testing RMSE=0.395\n",
      "proportion=0.1, degree=1, Training RMSE=0.597, Testing RMSE=0.497\n",
      "proportion=0.1, degree=3, Training RMSE=0.027, Testing RMSE=0.447\n",
      "proportion=0.1, degree=7, Training RMSE=0.000, Testing RMSE=5.309\n",
      "proportion=0.1, degree=12, Training RMSE=0.000, Testing RMSE=39.964\n"
     ]
    }
   ],
   "source": [
    "seed = 6\n",
    "degrees = [1, 3, 7, 12]\n",
    "split_ratios = [0.9, 0.5, 0.1]\n",
    "\n",
    "for split_ratio in split_ratios:\n",
    "    for degree in degrees:\n",
    "        train_test_split_demo(x, y, degree, split_ratio, seed)"
   ]
  },
  {
   "cell_type": "markdown",
   "metadata": {},
   "source": [
    "# 3 Ridge Regression\n",
    "Please fill in the function below."
   ]
  },
  {
   "cell_type": "code",
   "execution_count": 35,
   "metadata": {},
   "outputs": [],
   "source": [
    "def ridge_regression(y, tx, lambda_):\n",
    "    \"\"\"implement ridge regression.\"\"\"\n",
    "    # ***************************************************\n",
    "    # INSERT YOUR CODE HERE\n",
    "    # ridge regression: TODO\n",
    "    # ***************************************************\n",
    "    \n",
    "    # left_part * w_ridge = right_part\n",
    "    left_part = np.dot(tx.T, tx) + lambda_\n",
    "    right_part = np.dot(tx.T, y)\n",
    "    \n",
    "    w_ridge = np.linalg.solve(left_part, right_part)\n",
    "    mse_ridge = compute_loss(y, tx, w_ridge)\n",
    "    \n",
    "    return mse_ridge, w_ridge\n",
    "    \n",
    "    #raise NotImplementedError"
   ]
  },
  {
   "cell_type": "code",
   "execution_count": 36,
   "metadata": {},
   "outputs": [],
   "source": [
    "def ridge_regression_demo(x, y, degree, ratio, seed):\n",
    "    \"\"\"ridge regression demo.\"\"\"\n",
    "    # define parameter\n",
    "    lambdas = np.logspace(-5, 0, 15)\n",
    "    # ***************************************************\n",
    "    # INSERT YOUR CODE HERE\n",
    "    # split the data, and return train and test data: TODO\n",
    "    # ***************************************************\n",
    "    \n",
    "    x_train, y_train, x_test, y_test = split_data(x, y, ratio, seed)\n",
    "    \n",
    "    #raise NotImplementedError\n",
    "    # ***************************************************\n",
    "    # INSERT YOUR CODE HERE\n",
    "    # form train and test data with polynomial basis function: TODO\n",
    "    # ***************************************************\n",
    "    \n",
    "    tx_train = build_poly(x_train, degree)\n",
    "    tx_test = build_poly(x_test, degree)\n",
    "    \n",
    "    #raise NotImplementedError\n",
    "\n",
    "    rmse_tr = []\n",
    "    rmse_te = []\n",
    "    for ind, lambda_ in enumerate(lambdas):\n",
    "        # ***************************************************\n",
    "        # INSERT YOUR CODE HERE\n",
    "        # ridge regression with a given lambda\n",
    "        # ***************************************************\n",
    "        mse_train, w_train = ridge_regression(y_train, tx_train, lambda_)\n",
    "        mse_test = compute_loss(y_test, tx_test, w_train)\n",
    "        \n",
    "        rmse_tr.append(np.sqrt(2*mse_train))\n",
    "        rmse_te.append(np.sqrt(2*mse_test))\n",
    "        \n",
    "        print(\"proportion={p}, degree={d}, lambda={l:.3f}, Training RMSE={tr:.3f}, Testing RMSE={te:.3f}\".format(\n",
    "               p=ratio, d=degree, l=lambda_, tr=rmse_tr[ind], te=rmse_te[ind]))\n",
    "        \n",
    "    # Plot the obtained results\n",
    "    plot_train_test(rmse_tr, rmse_te, lambdas, degree)\n",
    "\n",
    "    #raise NotImplementedError\n"
   ]
  },
  {
   "cell_type": "code",
   "execution_count": 37,
   "metadata": {},
   "outputs": [
    {
     "name": "stdout",
     "output_type": "stream",
     "text": [
      "proportion=0.5, degree=7, lambda=0.000, Training RMSE=0.232, Testing RMSE=0.313\n",
      "proportion=0.5, degree=7, lambda=0.000, Training RMSE=0.232, Testing RMSE=0.313\n",
      "proportion=0.5, degree=7, lambda=0.000, Training RMSE=0.232, Testing RMSE=0.313\n",
      "proportion=0.5, degree=7, lambda=0.000, Training RMSE=0.232, Testing RMSE=0.313\n",
      "proportion=0.5, degree=7, lambda=0.000, Training RMSE=0.232, Testing RMSE=0.313\n",
      "proportion=0.5, degree=7, lambda=0.001, Training RMSE=0.232, Testing RMSE=0.313\n",
      "proportion=0.5, degree=7, lambda=0.001, Training RMSE=0.232, Testing RMSE=0.313\n",
      "proportion=0.5, degree=7, lambda=0.003, Training RMSE=0.232, Testing RMSE=0.313\n",
      "proportion=0.5, degree=7, lambda=0.007, Training RMSE=0.232, Testing RMSE=0.313\n",
      "proportion=0.5, degree=7, lambda=0.016, Training RMSE=0.232, Testing RMSE=0.312\n",
      "proportion=0.5, degree=7, lambda=0.037, Training RMSE=0.232, Testing RMSE=0.312\n",
      "proportion=0.5, degree=7, lambda=0.085, Training RMSE=0.232, Testing RMSE=0.310\n",
      "proportion=0.5, degree=7, lambda=0.193, Training RMSE=0.232, Testing RMSE=0.307\n",
      "proportion=0.5, degree=7, lambda=0.439, Training RMSE=0.234, Testing RMSE=0.300\n",
      "proportion=0.5, degree=7, lambda=1.000, Training RMSE=0.240, Testing RMSE=0.290\n"
     ]
    },
    {
     "data": {
      "image/png": "[encoded data removed]",
      "text/plain": [
       "<Figure size 432x288 with 1 Axes>"
      ]
     },
     "metadata": {
      "needs_background": "light"
     },
     "output_type": "display_data"
    }
   ],
   "source": [
    "seed = 56\n",
    "degree = 7\n",
    "split_ratio = 0.5\n",
    "ridge_regression_demo(x, y, degree, split_ratio, seed)"
   ]
  }
 ],
 "metadata": {
  "anaconda-cloud": {},
  "kernelspec": {
   "display_name": "Python 3",
   "language": "python",
   "name": "python3"
  },
  "language_info": {
   "codemirror_mode": {
    "name": "ipython",
    "version": 3
   },
   "file_extension": ".py",
   "mimetype": "text/x-python",
   "name": "python",
   "nbconvert_exporter": "python",
   "pygments_lexer": "ipython3",
   "version": "3.8.5"
  }
 },
 "nbformat": 4,
 "nbformat_minor": 1
}
