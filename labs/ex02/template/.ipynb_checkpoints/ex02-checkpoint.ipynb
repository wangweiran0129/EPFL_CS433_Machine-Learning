{
 "cells": [
  {
   "cell_type": "code",
   "execution_count": 37,
   "metadata": {},
   "outputs": [
    {
     "name": "stdout",
     "output_type": "stream",
     "text": [
      "The autoreload extension is already loaded. To reload it, use:\n",
      "  %reload_ext autoreload\n"
     ]
    }
   ],
   "source": [
    "# Useful starting lines\n",
    "%matplotlib inline\n",
    "import numpy as np\n",
    "import matplotlib.pyplot as plt\n",
    "%load_ext autoreload\n",
    "%autoreload 2"
   ]
  },
  {
   "cell_type": "markdown",
   "metadata": {},
   "source": [
    "# Load the data"
   ]
  },
  {
   "cell_type": "code",
   "execution_count": 38,
   "metadata": {},
   "outputs": [],
   "source": [
    "import datetime\n",
    "from helpers import *\n",
    "\n",
    "height, weight, gender = load_data(sub_sample=False, add_outlier=False)\n",
    "x, mean_x, std_x = standardize(height)\n",
    "y, tx = build_model_data(x, weight)"
   ]
  },
  {
   "cell_type": "code",
   "execution_count": 39,
   "metadata": {},
   "outputs": [
    {
     "data": {
      "text/plain": [
       "((10000,), (10000, 2))"
      ]
     },
     "execution_count": 39,
     "metadata": {},
     "output_type": "execute_result"
    }
   ],
   "source": [
    "y.shape, tx.shape"
   ]
  },
  {
   "cell_type": "markdown",
   "metadata": {},
   "source": [
    "# 1 Computing the Cost Function"
   ]
  },
  {
   "cell_type": "markdown",
   "metadata": {},
   "source": [
    "Fill in the `compute_loss` function below:\n",
    "<a id='compute_loss'></a>\n"
   ]
  },
  {
   "cell_type": "code",
   "execution_count": 40,
   "metadata": {},
   "outputs": [],
   "source": [
    "def compute_loss(y, tx, w, flag = 0):\n",
    "    \"\"\"Calculate the loss.\n",
    "\n",
    "    You can calculate the loss using mse or mae.\n",
    "    \"\"\"\n",
    "    # ***************************************************\n",
    "    # INSERT YOUR CODE HERE\n",
    "    # TODO: compute loss by MSE\n",
    "    # ***************************************************\n",
    "    \n",
    "    # flag = 0 -> MSE\n",
    "    # flag = 1 -> MAE\n",
    "    \n",
    "    e = y -np.dot(tx, w)\n",
    "    \n",
    "    if(flag == 0):\n",
    "        loss_result_mse = 0.5 * np.mean(e**2)\n",
    "        return loss_result_mse\n",
    "    else:\n",
    "        loss_result_mae = 0.5 * np.mean(np.abs(e))\n",
    "        return loss_result_mae\n",
    "    \n",
    "    #raise NotImplementedError\n",
    "    \n",
    "    return loss_result_mse"
   ]
  },
  {
   "cell_type": "markdown",
   "metadata": {},
   "source": [
    "# 2 Grid Search\n",
    "\n",
    "Fill in the function `grid_search()` below:"
   ]
  },
  {
   "cell_type": "code",
   "execution_count": 41,
   "metadata": {},
   "outputs": [
    {
     "name": "stdout",
     "output_type": "stream",
     "text": [
      "[[0. 0.]\n",
      " [0. 0.]]\n"
     ]
    }
   ],
   "source": [
    "print(np.zeros((2,2)))"
   ]
  },
  {
   "cell_type": "code",
   "execution_count": 42,
   "metadata": {},
   "outputs": [],
   "source": [
    "def grid_search(y, tx, w0, w1):\n",
    "    \"\"\"Algorithm for grid search.\"\"\"\n",
    "    # losses is a matrix full of 0\n",
    "    losses = np.zeros((len(w0), len(w1)))\n",
    "    # ***************************************************\n",
    "    # INSERT YOUR CODE HERE\n",
    "    # TODO: compute loss for each combination of w0 and w1.\n",
    "    # ***************************************************\n",
    "    \n",
    "    for idx_w0, w0_val in enumerate(w0):\n",
    "        for idx_w1, w1_val in enumerate(w1):\n",
    "            w = np.array([w0_val, w1_val])\n",
    "            losses[idx_w0, idx_w1] = compute_loss(y, tx, w)\n",
    "    \n",
    "    #raise NotImplementedError\n",
    "    return losses"
   ]
  },
  {
   "cell_type": "markdown",
   "metadata": {},
   "source": [
    "Let us play with the grid search demo now!"
   ]
  },
  {
   "cell_type": "code",
   "execution_count": 43,
   "metadata": {},
   "outputs": [
    {
     "name": "stdout",
     "output_type": "stream",
     "text": [
      "Grid Search: loss*=42.42448314678248, w0*=66.66666666666669, w1*=16.666666666666686, execution time=0.008 seconds\n"
     ]
    },
    {
     "data": {
      "image/png": "[encoded data removed]",
      "text/plain": [
       "<Figure size 432x288 with 3 Axes>"
      ]
     },
     "metadata": {
      "needs_background": "light"
     },
     "output_type": "display_data"
    }
   ],
   "source": [
    "from grid_search import generate_w, get_best_parameters\n",
    "from plots import grid_visualization\n",
    "\n",
    "# Generate the grid of parameters to be swept\n",
    "grid_w0, grid_w1 = generate_w(num_intervals=10)\n",
    "\n",
    "# Start the grid search\n",
    "start_time = datetime.datetime.now()\n",
    "grid_losses = grid_search(y, tx, grid_w0, grid_w1)\n",
    "\n",
    "# Select the best combinaison\n",
    "loss_star, w0_star, w1_star = get_best_parameters(grid_w0, grid_w1, grid_losses)\n",
    "end_time = datetime.datetime.now()\n",
    "execution_time = (end_time - start_time).total_seconds()\n",
    "\n",
    "# Print the results\n",
    "print(\"Grid Search: loss*={l}, w0*={w0}, w1*={w1}, execution time={t:.3f} seconds\".format(\n",
    "      l=loss_star, w0=w0_star, w1=w1_star, t=execution_time))\n",
    "\n",
    "# Plot the results\n",
    "fig = grid_visualization(grid_losses, grid_w0, grid_w1, mean_x, std_x, height, weight)\n",
    "fig.set_size_inches(10.0,6.0)\n",
    "fig.savefig(\"grid_plot\")  # Optional saving"
   ]
  },
  {
   "cell_type": "markdown",
   "metadata": {},
   "source": [
    "# 3 Gradient Descent"
   ]
  },
  {
   "cell_type": "markdown",
   "metadata": {},
   "source": [
    "Again, please fill in the functions `compute_gradient` below:"
   ]
  },
  {
   "cell_type": "code",
   "execution_count": 44,
   "metadata": {},
   "outputs": [],
   "source": [
    "def compute_gradient(y, tx, w):\n",
    "    \"\"\"Compute the gradient.\"\"\"\n",
    "    # ***************************************************\n",
    "    # INSERT YOUR CODE HERE\n",
    "    # TODO: compute gradient and error vector\n",
    "    # ***************************************************\n",
    "    \n",
    "    e = y - np.dot(tx, w)\n",
    "    N = np.shape(y)[0]\n",
    "    \n",
    "    gradient = (-1/N) * np.dot(tx.T, e)\n",
    "    return gradient\n",
    "    \n",
    "    #raise NotImplementedError"
   ]
  },
  {
   "cell_type": "markdown",
   "metadata": {},
   "source": [
    "Please fill in the functions `gradient_descent` below:"
   ]
  },
  {
   "cell_type": "code",
   "execution_count": 45,
   "metadata": {},
   "outputs": [],
   "source": [
    "def gradient_descent(y, tx, initial_w, max_iters, gamma):\n",
    "    \"\"\"Gradient descent algorithm.\"\"\"\n",
    "    # Define parameters to store w and loss\n",
    "    ws = [initial_w]\n",
    "    losses = []\n",
    "    w = initial_w\n",
    "    for n_iter in range(max_iters):\n",
    "        # ***************************************************\n",
    "        # INSERT YOUR CODE HERE\n",
    "        # TODO: compute gradient and loss\n",
    "        # ***************************************************\n",
    "        loss = compute_loss(y, tx, w)\n",
    "        grad = compute_gradient(y, tx, w)\n",
    "        \n",
    "        #raise NotImplementedError\n",
    "        \n",
    "        # ***************************************************\n",
    "        # INSERT YOUR CODE HERE\n",
    "        # TODO: update w by gradient\n",
    "        # ***************************************************\n",
    "        \n",
    "        w = w - gamma * grad\n",
    "        losses.append(loss)\n",
    "        \n",
    "        #raise NotImplementedError\n",
    "        \n",
    "        # store w and loss\n",
    "        ws.append(w)\n",
    "        losses.append(loss)\n",
    "        print(\"Gradient Descent({bi}/{ti}): loss={l}, w0={w0}, w1={w1}\".format(\n",
    "              bi=n_iter, ti=max_iters - 1, l=loss, w0=w[0], w1=w[1]))\n",
    "\n",
    "    return losses, ws"
   ]
  },
  {
   "cell_type": "markdown",
   "metadata": {},
   "source": [
    "Test your gradient descent function through gradient descent demo shown below:"
   ]
  },
  {
   "cell_type": "code",
   "execution_count": 46,
   "metadata": {},
   "outputs": [
    {
     "name": "stdout",
     "output_type": "stream",
     "text": [
      "Gradient Descent(0/49): loss=2792.2367127591674, w0=51.30574540147363, w1=9.435798704492253\n",
      "Gradient Descent(1/49): loss=265.3024621089602, w0=66.69746902191572, w1=12.266538315839991\n",
      "Gradient Descent(2/49): loss=37.87837955044119, w0=71.31498610804836, w1=13.115760199244326\n",
      "Gradient Descent(3/49): loss=17.410212120174446, w0=72.70024123388814, w1=13.37052676426563\n",
      "Gradient Descent(4/49): loss=15.568077051450457, w0=73.11581777164007, w1=13.446956733772023\n",
      "Gradient Descent(5/49): loss=15.402284895265295, w0=73.24049073296565, w1=13.469885724623941\n",
      "Gradient Descent(6/49): loss=15.38736360120863, w0=73.27789262136334, w1=13.476764421879516\n",
      "Gradient Descent(7/49): loss=15.38602068474353, w0=73.28911318788263, w1=13.478828031056189\n",
      "Gradient Descent(8/49): loss=15.385899822261674, w0=73.29247935783842, w1=13.47944711380919\n",
      "Gradient Descent(9/49): loss=15.385888944638305, w0=73.29348920882516, w1=13.47963283863509\n",
      "Gradient Descent(10/49): loss=15.3858879656522, w0=73.29379216412119, w1=13.479688556082861\n",
      "Gradient Descent(11/49): loss=15.385887877543453, w0=73.29388305071, w1=13.479705271317192\n",
      "Gradient Descent(12/49): loss=15.385887869613667, w0=73.29391031668663, w1=13.479710285887492\n",
      "Gradient Descent(13/49): loss=15.385887868899983, w0=73.29391849647962, w1=13.479711790258582\n",
      "Gradient Descent(14/49): loss=15.38588786883575, w0=73.29392095041752, w1=13.479712241569908\n",
      "Gradient Descent(15/49): loss=15.385887868829974, w0=73.29392168659889, w1=13.479712376963306\n",
      "Gradient Descent(16/49): loss=15.38588786882945, w0=73.2939219074533, w1=13.479712417581325\n",
      "Gradient Descent(17/49): loss=15.385887868829403, w0=73.29392197370963, w1=13.479712429766732\n",
      "Gradient Descent(18/49): loss=15.3858878688294, w0=73.29392199358652, w1=13.479712433422353\n",
      "Gradient Descent(19/49): loss=15.385887868829403, w0=73.2939219995496, w1=13.47971243451904\n",
      "Gradient Descent(20/49): loss=15.385887868829398, w0=73.29392200133852, w1=13.479712434848047\n",
      "Gradient Descent(21/49): loss=15.3858878688294, w0=73.29392200187519, w1=13.479712434946748\n",
      "Gradient Descent(22/49): loss=15.3858878688294, w0=73.29392200203618, w1=13.479712434976358\n",
      "Gradient Descent(23/49): loss=15.3858878688294, w0=73.29392200208449, w1=13.479712434985242\n",
      "Gradient Descent(24/49): loss=15.3858878688294, w0=73.29392200209898, w1=13.479712434987906\n",
      "Gradient Descent(25/49): loss=15.385887868829398, w0=73.29392200210333, w1=13.479712434988706\n",
      "Gradient Descent(26/49): loss=15.3858878688294, w0=73.29392200210464, w1=13.479712434988945\n",
      "Gradient Descent(27/49): loss=15.3858878688294, w0=73.29392200210502, w1=13.479712434989018\n",
      "Gradient Descent(28/49): loss=15.3858878688294, w0=73.29392200210513, w1=13.47971243498904\n",
      "Gradient Descent(29/49): loss=15.3858878688294, w0=73.29392200210518, w1=13.479712434989047\n",
      "Gradient Descent(30/49): loss=15.3858878688294, w0=73.29392200210519, w1=13.479712434989048\n",
      "Gradient Descent(31/49): loss=15.3858878688294, w0=73.29392200210519, w1=13.479712434989048\n",
      "Gradient Descent(32/49): loss=15.3858878688294, w0=73.29392200210519, w1=13.479712434989048\n",
      "Gradient Descent(33/49): loss=15.3858878688294, w0=73.29392200210519, w1=13.479712434989048\n",
      "Gradient Descent(34/49): loss=15.3858878688294, w0=73.29392200210519, w1=13.479712434989048\n",
      "Gradient Descent(35/49): loss=15.3858878688294, w0=73.29392200210519, w1=13.479712434989048\n",
      "Gradient Descent(36/49): loss=15.3858878688294, w0=73.29392200210519, w1=13.479712434989048\n",
      "Gradient Descent(37/49): loss=15.3858878688294, w0=73.29392200210519, w1=13.479712434989048\n",
      "Gradient Descent(38/49): loss=15.3858878688294, w0=73.29392200210519, w1=13.479712434989048\n",
      "Gradient Descent(39/49): loss=15.3858878688294, w0=73.29392200210519, w1=13.479712434989048\n",
      "Gradient Descent(40/49): loss=15.3858878688294, w0=73.29392200210519, w1=13.479712434989048\n",
      "Gradient Descent(41/49): loss=15.3858878688294, w0=73.29392200210519, w1=13.479712434989048\n",
      "Gradient Descent(42/49): loss=15.3858878688294, w0=73.29392200210519, w1=13.479712434989048\n",
      "Gradient Descent(43/49): loss=15.3858878688294, w0=73.29392200210519, w1=13.479712434989048\n",
      "Gradient Descent(44/49): loss=15.3858878688294, w0=73.29392200210519, w1=13.479712434989048\n",
      "Gradient Descent(45/49): loss=15.3858878688294, w0=73.29392200210519, w1=13.479712434989048\n",
      "Gradient Descent(46/49): loss=15.3858878688294, w0=73.29392200210519, w1=13.479712434989048\n",
      "Gradient Descent(47/49): loss=15.3858878688294, w0=73.29392200210519, w1=13.479712434989048\n",
      "Gradient Descent(48/49): loss=15.3858878688294, w0=73.29392200210519, w1=13.479712434989048\n",
      "Gradient Descent(49/49): loss=15.3858878688294, w0=73.29392200210519, w1=13.479712434989048\n",
      "Gradient Descent: execution time=0.027 seconds\n"
     ]
    }
   ],
   "source": [
    "# from gradient_descent import *\n",
    "from plots import gradient_descent_visualization\n",
    "\n",
    "# Define the parameters of the algorithm.\n",
    "max_iters = 50\n",
    "gamma = 0.7\n",
    "\n",
    "# Initialization\n",
    "w_initial = np.array([0, 0])\n",
    "\n",
    "# Start gradient descent.\n",
    "start_time = datetime.datetime.now()\n",
    "gradient_losses, gradient_ws = gradient_descent(y, tx, w_initial, max_iters, gamma)\n",
    "end_time = datetime.datetime.now()\n",
    "\n",
    "# Print result\n",
    "exection_time = (end_time - start_time).total_seconds()\n",
    "print(\"Gradient Descent: execution time={t:.3f} seconds\".format(t=exection_time))"
   ]
  },
  {
   "cell_type": "code",
   "execution_count": 47,
   "metadata": {},
   "outputs": [
    {
     "data": {
      "application/vnd.jupyter.widget-view+json": {
       "model_id": "dcbd7a60e7b94fb481f4951a80f92ccb",
       "version_major": 2,
       "version_minor": 0
      },
      "text/plain": [
       "interactive(children=(IntSlider(value=1, description='n_iter', max=51, min=1), Output()), _dom_classes=('widge…"
      ]
     },
     "metadata": {},
     "output_type": "display_data"
    },
    {
     "data": {
      "text/plain": [
       "<function __main__.plot_figure(n_iter)>"
      ]
     },
     "execution_count": 47,
     "metadata": {},
     "output_type": "execute_result"
    }
   ],
   "source": [
    "# Time Visualization\n",
    "from ipywidgets import IntSlider, interact\n",
    "\n",
    "def plot_figure(n_iter):\n",
    "    fig = gradient_descent_visualization(\n",
    "        gradient_losses, gradient_ws, grid_losses, grid_w0, grid_w1, mean_x, std_x, height, weight, n_iter)\n",
    "    fig.set_size_inches(10.0, 6.0)\n",
    "\n",
    "interact(plot_figure, n_iter=IntSlider(min=1, max=len(gradient_ws)))"
   ]
  },
  {
   "cell_type": "markdown",
   "metadata": {},
   "source": [
    "# 4 Stochastic gradient descent"
   ]
  },
  {
   "cell_type": "code",
   "execution_count": 51,
   "metadata": {},
   "outputs": [],
   "source": [
    "def compute_stoch_gradient(y, tx, w):\n",
    "    \"\"\"Compute a stochastic gradient from just few examples n and their corresponding y_n labels.\"\"\"\n",
    "    # ***************************************************\n",
    "    # INSERT YOUR CODE HERE\n",
    "    # TODO: implement stochastic gradient computation.It's same as the gradient descent.\n",
    "    # ***************************************************\n",
    "    \n",
    "    grad = compute_gradient(y, tx, w)\n",
    "    return grad\n",
    "    \n",
    "    #raise NotImplementedError\n",
    "\n",
    "\n",
    "def stochastic_gradient_descent(\n",
    "        y, tx, initial_w, batch_size, max_iters, gamma):\n",
    "    \"\"\"Stochastic gradient descent algorithm.\"\"\"\n",
    "    # ***************************************************\n",
    "    # INSERT YOUR CODE HERE\n",
    "    # TODO: implement stochastic gradient descent.\n",
    "    # ***************************************************\n",
    "    \n",
    "    ws = [initial_w]\n",
    "    losses = []\n",
    "    w = initial_w\n",
    "    \n",
    "    for n_iter in range(max_iters):\n",
    "        for y_batch, tx_batch in batch_iter(y, tx, batch_size = batch_size):\n",
    "            loss = compute_loss(y, tx, w)\n",
    "            grad = compute_stoch_gradient(y_batch, tx_batch, w)\n",
    "            w = w - gamma * grad\n",
    "            ws.append(w)\n",
    "            losses.append(loss)\n",
    "            print(\"Stochastic Gradient Descent({bi}/{ti}): loss={l}, w0={w0}, w1={w1}\".format(bi=n_iter, ti=max_iters - 1, l=loss, w0=w[0], w1=w[1]))\n",
    "    \n",
    "    #raise NotImplementedError\n",
    "    return losses, ws"
   ]
  },
  {
   "cell_type": "code",
   "execution_count": 52,
   "metadata": {},
   "outputs": [
    {
     "name": "stdout",
     "output_type": "stream",
     "text": [
      "Stochastic Gradient Descent(0/49): loss=2792.2367127591674, w0=59.54561182690002, w1=67.03653033799061\n",
      "Stochastic Gradient Descent(1/49): loss=1544.0602761532898, w0=50.08943112384444, w1=62.78774043557662\n",
      "Stochastic Gradient Descent(2/49): loss=1500.2508989818382, w0=49.96138106690973, w1=62.70701302136263\n",
      "Stochastic Gradient Descent(3/49): loss=1499.253182625705, w0=27.95921783059749, w1=39.133750788698904\n",
      "Stochastic Gradient Descent(4/49): loss=1372.068430954698, w0=74.56524682104694, w1=-0.763891980462482\n",
      "Stochastic Gradient Descent(5/49): loss=117.63415463839324, w0=65.28969661206762, w1=4.265156814667371\n",
      "Stochastic Gradient Descent(6/49): loss=89.8737175560913, w0=62.04449649691766, w1=8.868548870823442\n",
      "Stochastic Gradient Descent(7/49): loss=89.29208967495543, w0=66.03879415086445, w1=7.520421927064506\n",
      "Stochastic Gradient Descent(8/49): loss=59.46089961667368, w0=77.49550365606959, w1=25.591230796072892\n",
      "Stochastic Gradient Descent(9/49): loss=97.55697057172999, w0=67.99778341010014, w1=13.957665188454943\n",
      "Stochastic Gradient Descent(10/49): loss=29.52464927896483, w0=72.98448209556426, w1=7.302661280637242\n",
      "Stochastic Gradient Descent(11/49): loss=34.51174487844892, w0=77.31231121805247, w1=8.829560093915486\n",
      "Stochastic Gradient Descent(12/49): loss=34.271572211846106, w0=78.36728628670599, w1=10.250035034546206\n",
      "Stochastic Gradient Descent(13/49): loss=33.470808506426536, w0=77.17986347193849, w1=7.3726843528675134\n",
      "Stochastic Gradient Descent(14/49): loss=41.584054420225044, w0=69.47829000381361, w1=1.3547232396423343\n",
      "Stochastic Gradient Descent(15/49): loss=96.17309313565993, w0=64.01085021506687, w1=5.489415438478933\n",
      "Stochastic Gradient Descent(16/49): loss=90.39602181670203, w0=82.994061301438, w1=44.11377662356647\n",
      "Stochastic Gradient Descent(17/49): loss=531.6551834370003, w0=73.55951529399991, w1=41.77935234821926\n",
      "Stochastic Gradient Descent(18/49): loss=415.85596737642555, w0=75.46033661879152, w1=41.36718281981177\n",
      "Stochastic Gradient Descent(19/49): loss=406.58806624670757, w0=95.39678579756567, w1=17.13661073804829\n",
      "Stochastic Gradient Descent(20/49): loss=266.340634448627, w0=90.6486574905098, w1=18.909095833412124\n",
      "Stochastic Gradient Descent(21/49): loss=180.71841184861063, w0=82.96211128592715, w1=17.09954108225867\n",
      "Stochastic Gradient Descent(22/49): loss=68.67440960053118, w0=76.7521518096351, w1=19.717227446635125\n",
      "Stochastic Gradient Descent(23/49): loss=40.818861329928616, w0=67.16420474319025, w1=21.05507178838605\n",
      "Stochastic Gradient Descent(24/49): loss=62.86563937249901, w0=64.1032554509178, w1=21.565838646778918\n",
      "Stochastic Gradient Descent(25/49): loss=90.31278225288445, w0=69.18139965617182, w1=26.109940992613247\n",
      "Stochastic Gradient Descent(26/49): loss=103.60364460064305, w0=81.77413210318673, w1=12.831310776188703\n",
      "Stochastic Gradient Descent(27/49): loss=51.55308190363962, w0=75.86670267365251, w1=8.155291046690346\n",
      "Stochastic Gradient Descent(28/49): loss=32.87021962085951, w0=83.36625231731288, w1=10.626522067573735\n",
      "Stochastic Gradient Descent(29/49): loss=70.18215449451117, w0=80.09751211384693, w1=3.0718652389835617\n",
      "Stochastic Gradient Descent(30/49): loss=92.69194870082414, w0=87.9762041832053, w1=14.146920656169112\n",
      "Stochastic Gradient Descent(31/49): loss=123.39317629675939, w0=81.6325966166684, w1=14.990325461258934\n",
      "Stochastic Gradient Descent(32/49): loss=51.29361089017792, w0=72.73303230068794, w1=29.468424612701206\n",
      "Stochastic Gradient Descent(33/49): loss=143.3626450482679, w0=55.47520887714385, w1=5.136154464177707\n",
      "Stochastic Gradient Descent(34/49): loss=208.94663638980873, w0=66.30047396724716, w1=5.688237827705772\n",
      "Stochastic Gradient Descent(35/49): loss=70.19358385492922, w0=77.79225054355246, w1=1.5887123975319026\n",
      "Stochastic Gradient Descent(36/49): loss=96.20130864763195, w0=85.72659718299892, w1=7.159957270962631\n",
      "Stochastic Gradient Descent(37/49): loss=112.6412466122542, w0=76.55832591319869, w1=4.436735142752328\n",
      "Stochastic Gradient Descent(38/49): loss=61.601773470165185, w0=86.74188277745755, w1=10.523567871640456\n",
      "Stochastic Gradient Descent(39/49): loss=110.17910771624497, w0=77.82702340303467, w1=5.671862214578276\n",
      "Stochastic Gradient Descent(40/49): loss=56.141654556568156, w0=82.01125543729836, w1=10.292586692706069\n",
      "Stochastic Gradient Descent(41/49): loss=58.460724227559226, w0=79.83086685573552, w1=12.510855799917996\n",
      "Stochastic Gradient Descent(42/49): loss=37.22105346819205, w0=80.32346285736512, w1=11.953825501046516\n",
      "Stochastic Gradient Descent(43/49): loss=41.25727565430191, w0=76.62688876996921, w1=10.108988347889625\n",
      "Stochastic Gradient Descent(44/49): loss=26.621112042348518, w0=78.07835703582673, w1=13.418840093959691\n",
      "Stochastic Gradient Descent(45/49): loss=26.833149885731604, w0=77.37159891966336, w1=12.383097870451508\n",
      "Stochastic Gradient Descent(46/49): loss=24.300894142400672, w0=67.51915279336646, w1=27.610686882866972\n",
      "Stochastic Gradient Descent(47/49): loss=131.90208699921737, w0=81.87130678872273, w1=18.25376270336331\n",
      "Stochastic Gradient Descent(48/49): loss=63.56743074016059, w0=76.62806546093138, w1=23.083769940206697\n",
      "Stochastic Gradient Descent(49/49): loss=67.06310445260983, w0=68.13784817266435, w1=14.174643910235497\n",
      "SGD: execution time=0.031 seconds\n"
     ]
    }
   ],
   "source": [
    "# from stochastic_gradient_descent import *\n",
    "\n",
    "# Define the parameters of the algorithm.\n",
    "max_iters = 50\n",
    "gamma = 0.7\n",
    "batch_size = 1\n",
    "\n",
    "# Initialization\n",
    "w_initial = np.array([0, 0])\n",
    "\n",
    "# Start SGD.\n",
    "start_time = datetime.datetime.now()\n",
    "sgd_losses, sgd_ws = stochastic_gradient_descent(\n",
    "    y, tx, w_initial, batch_size, max_iters, gamma)\n",
    "end_time = datetime.datetime.now()\n",
    "\n",
    "# Print result\n",
    "exection_time = (end_time - start_time).total_seconds()\n",
    "print(\"SGD: execution time={t:.3f} seconds\".format(t=exection_time))"
   ]
  },
  {
   "cell_type": "code",
   "execution_count": 53,
   "metadata": {},
   "outputs": [
    {
     "data": {
      "application/vnd.jupyter.widget-view+json": {
       "model_id": "99492eaaf3324d5aa4d9fb8065386d0b",
       "version_major": 2,
       "version_minor": 0
      },
      "text/plain": [
       "interactive(children=(IntSlider(value=1, description='n_iter', max=51, min=1), Output()), _dom_classes=('widge…"
      ]
     },
     "metadata": {},
     "output_type": "display_data"
    },
    {
     "data": {
      "text/plain": [
       "<function __main__.plot_figure(n_iter)>"
      ]
     },
     "execution_count": 53,
     "metadata": {},
     "output_type": "execute_result"
    }
   ],
   "source": [
    "# Time Visualization\n",
    "from ipywidgets import IntSlider, interact\n",
    "def plot_figure(n_iter):\n",
    "    fig = gradient_descent_visualization(\n",
    "        sgd_losses, sgd_ws, grid_losses, grid_w0, grid_w1, mean_x, std_x, height, weight, n_iter)\n",
    "    fig.set_size_inches(10.0, 6.0)\n",
    "\n",
    "interact(plot_figure, n_iter=IntSlider(min=1, max=len(gradient_ws)))"
   ]
  },
  {
   "cell_type": "markdown",
   "metadata": {},
   "source": [
    "# 5 Effect of Outliers"
   ]
  },
  {
   "cell_type": "markdown",
   "metadata": {},
   "source": [
    "### Exercise 5\n"
   ]
  },
  {
   "cell_type": "code",
   "execution_count": 54,
   "metadata": {},
   "outputs": [
    {
     "name": "stdout",
     "output_type": "stream",
     "text": [
      "The shape of height is  (200,)\n",
      "The shape of weight is  (200,)\n",
      "Grid Search: loss*=109.17758755205352, w0*=66.66666666666669, w1*=16.666666666666686, execution time=0.002 seconds\n"
     ]
    },
    {
     "data": {
      "image/png": "[encoded data removed]",
      "text/plain": [
       "<Figure size 432x288 with 3 Axes>"
      ]
     },
     "metadata": {
      "needs_background": "light"
     },
     "output_type": "display_data"
    }
   ],
   "source": [
    "height, weight, gender = load_data(sub_sample=True, add_outlier=True)\n",
    "x, mean_x, std_x = standardize(height)\n",
    "y, tx = build_model_data(x, weight)\n",
    "\n",
    "# Generate the grid of parameters to be swept\n",
    "grid_w0, grid_w1 = generate_w(num_intervals=10)\n",
    "\n",
    "# Start the grid search\n",
    "start_time = datetime.datetime.now()\n",
    "grid_losses = grid_search(y, tx, grid_w0, grid_w1)\n",
    "\n",
    "# Select the best combinaison\n",
    "loss_star, w0_star, w1_star = get_best_parameters(grid_w0, grid_w1, grid_losses)\n",
    "end_time = datetime.datetime.now()\n",
    "execution_time = (end_time - start_time).total_seconds()\n",
    "\n",
    "# Print the results\n",
    "print(\"Grid Search: loss*={l}, w0*={w0}, w1*={w1}, execution time={t:.3f} seconds\".format(\n",
    "      l=loss_star, w0=w0_star, w1=w1_star, t=execution_time))\n",
    "\n",
    "# Plot the results\n",
    "fig = grid_visualization(grid_losses, grid_w0, grid_w1, mean_x, std_x, height, weight)\n",
    "fig.set_size_inches(10.0,6.0)"
   ]
  },
  {
   "cell_type": "markdown",
   "metadata": {},
   "source": [
    "# 6 Subgradient Descent"
   ]
  },
  {
   "cell_type": "markdown",
   "metadata": {},
   "source": [
    "### Exercise 6"
   ]
  },
  {
   "cell_type": "markdown",
   "metadata": {},
   "source": [
    "Modify the function `compute_loss(y, tx, w)` for the Mean Absolute Error cost function [here](#compute_loss)"
   ]
  },
  {
   "cell_type": "code",
   "execution_count": null,
   "metadata": {
    "collapsed": true
   },
   "outputs": [],
   "source": []
  }
 ],
 "metadata": {
  "anaconda-cloud": {},
  "interpreter": {
   "hash": "aee8b7b246df8f9039afb4144a1f6fd8d2ca17a180786b69acc140d282b71a49"
  },
  "kernelspec": {
   "display_name": "Python 3",
   "language": "python",
   "name": "python3"
  },
  "language_info": {
   "codemirror_mode": {
    "name": "ipython",
    "version": 3
   },
   "file_extension": ".py",
   "mimetype": "text/x-python",
   "name": "python",
   "nbconvert_exporter": "python",
   "pygments_lexer": "ipython3",
   "version": "3.8.5"
  }
 },
 "nbformat": 4,
 "nbformat_minor": 1
}
